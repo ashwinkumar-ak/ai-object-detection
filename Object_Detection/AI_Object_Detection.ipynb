{
 "cells": [
  {
   "cell_type": "code",
   "execution_count": null,
   "id": "1123fe7d",
   "metadata": {},
   "outputs": [],
   "source": [
    "import cv2 #pip install opencv-python"
   ]
  },
  {
   "cell_type": "code",
   "execution_count": null,
   "id": "e12a2355",
   "metadata": {},
   "outputs": [],
   "source": [
    "import matplotlib.pyplot as plt #pip install matplot lib"
   ]
  },
  {
   "cell_type": "code",
   "execution_count": null,
   "id": "e77a236c",
   "metadata": {},
   "outputs": [],
   "source": [
    "config_file = \"ssd_mobilenet_v3_large_coco_2020_01_14.pbtxt\"\n",
    "frozen_model = \"frozen_inference_graph.pb\""
   ]
  },
  {
   "cell_type": "code",
   "execution_count": null,
   "id": "fd2f50aa",
   "metadata": {},
   "outputs": [],
   "source": [
    "model = cv2.dnn_DetectionModel(frozen_model, config_file)"
   ]
  },
  {
   "cell_type": "code",
   "execution_count": null,
   "id": "585802b0",
   "metadata": {},
   "outputs": [],
   "source": [
    "classLabels = [] #empty list of python\n",
    "file_name = 'Labels.txt'\n",
    "with open(file_name, 'rt') as fpt:\n",
    "    classLabels = fpt.read().rstrip('\\n').split('\\n')\n",
    "    #classLabels.append(fpt.read())"
   ]
  },
  {
   "cell_type": "code",
   "execution_count": null,
   "id": "46150ea1",
   "metadata": {
    "scrolled": false
   },
   "outputs": [],
   "source": [
    "print(classLabels)"
   ]
  },
  {
   "cell_type": "code",
   "execution_count": null,
   "id": "7f872d7f",
   "metadata": {},
   "outputs": [],
   "source": [
    "print(len(classLabels))"
   ]
  },
  {
   "cell_type": "code",
   "execution_count": null,
   "id": "724c1c56",
   "metadata": {},
   "outputs": [],
   "source": [
    "model.setInputSize(320, 320)\n",
    "model.setInputScale(1.0/127.5) # 255/2=127.5\n",
    "model.setInputMean((127.5,127.5,127.5)) #mobilenet => [-1,1]\n",
    "model.setInputSwapRB(True)"
   ]
  },
  {
   "cell_type": "markdown",
   "id": "f1ad3448",
   "metadata": {},
   "source": [
    "# Read an image"
   ]
  },
  {
   "cell_type": "code",
   "execution_count": null,
   "id": "fe97e86e",
   "metadata": {},
   "outputs": [],
   "source": [
    "img = cv2.imread('hyundai_kona_hybrid_048.jpg')"
   ]
  },
  {
   "cell_type": "code",
   "execution_count": null,
   "id": "5b8c35f0",
   "metadata": {},
   "outputs": [],
   "source": [
    "plt.imshow(img) #bgr format"
   ]
  },
  {
   "cell_type": "code",
   "execution_count": null,
   "id": "9f2aacae",
   "metadata": {},
   "outputs": [],
   "source": [
    "plt.imshow(cv2.cvtColor(img, cv2.COLOR_BGR2RGB))"
   ]
  },
  {
   "cell_type": "code",
   "execution_count": null,
   "id": "2dc7c5ad",
   "metadata": {},
   "outputs": [],
   "source": [
    "ClassIndex, confidence, bbox = model.detect(img, confThreshold=0.5)"
   ]
  },
  {
   "cell_type": "code",
   "execution_count": null,
   "id": "d5b25609",
   "metadata": {},
   "outputs": [],
   "source": [
    "print(ClassIndex)"
   ]
  },
  {
   "cell_type": "code",
   "execution_count": null,
   "id": "129930cc",
   "metadata": {},
   "outputs": [],
   "source": [
    "font_scale = 3\n",
    "font = cv2.FONT_HERSHEY_PLAIN\n",
    "for ClassInd, conf, boxes, in zip(ClassIndex.flatten(), confidence.flatten(), bbox):\n",
    "    #cv2.rectangle(frame, (x,y), (x+w, y+h), (255,0,0), 2)\n",
    "    #cv2.putText(img, text, (text_offset_x, text_offset_y), font, fontScale=font_scale, color=(0,0,0), thickness=1)\n",
    "    cv2.rectangle(img,boxes,(255, 0, 0), 2)\n",
    "    cv2.putText(img,classLabels[ClassInd-1],(boxes[0]+10,boxes[1]+40), font, fontScale=font_scale, color=(0, 250, 0), thickness=3)"
   ]
  },
  {
   "cell_type": "code",
   "execution_count": null,
   "id": "b4fcf1c7",
   "metadata": {
    "scrolled": true
   },
   "outputs": [],
   "source": [
    "plt.imshow(cv2.cvtColor(img, cv2.COLOR_BGR2RGB))"
   ]
  },
  {
   "cell_type": "markdown",
   "id": "86bc149e",
   "metadata": {},
   "source": [
    "# video demo"
   ]
  },
  {
   "cell_type": "markdown",
   "id": "72f364b8",
   "metadata": {},
   "source": [
    "cap = cv2.VideoCapture(\"SampleVideo_1280x720_1mb.mp4\")\n",
    "#check if the video is opened correctly\n",
    "if not cap.isOpened():\n",
    "    cap = cv2.VideoCapture(0)\n",
    "if not cap.isOpened():\n",
    "    raise IDEerror(\"Cannot open video\")\n",
    "    \n",
    "font_scale = 3\n",
    "font = cv2.FONT_HERSHEY_PLAIN\n",
    "\n",
    "while True:\n",
    "    ret,frame = cap.read()\n",
    "    \n",
    "    ClassIndex, confidence, bbox = model.detect(frame,confThreshold=0.55)\n",
    "    \n",
    "    print(ClassIndex)\n",
    "    if (len(ClassIndex)!=0):\n",
    "        for ClassInd, conf, boxes in zip(ClassIndex.flatten(), confidence.flatten(), bbox):\n",
    "            if (ClassInd<=80):\n",
    "                cv2.rectangle(frame,boxes,(255, 0, 0), 2)\n",
    "                cv2.putText(frame,classLabels[ClassInd-1],(boxes[0]+10,boxes[1]+40), font, fontScale=font_scale, color=(0, 250, 0), thickness=3)\n",
    "    cv2.imshow('Object Detection Tutorial',frame)\n",
    "    \n",
    "    if cv2.waitKey(2) & 0xFF == ord('q'):\n",
    "        break\n",
    "\n",
    "cap.release()\n",
    "cv2.destroyAllWindows()"
   ]
  },
  {
   "cell_type": "markdown",
   "id": "e6386717",
   "metadata": {},
   "source": [
    "## Live Camera Detection"
   ]
  },
  {
   "cell_type": "code",
   "execution_count": null,
   "id": "43234747",
   "metadata": {},
   "outputs": [],
   "source": [
    "cap = cv2.VideoCapture(\"2\")\n",
    "#check if the video is opened correctly\n",
    "if not cap.isOpened():\n",
    "    cap = cv2.VideoCapture(0)\n",
    "if not cap.isOpened():\n",
    "    raise IDEerror(\"Cannot open video\")\n",
    "    \n",
    "font_scale = 3\n",
    "font = cv2.FONT_HERSHEY_PLAIN\n",
    "\n",
    "while True:\n",
    "    ret,frame = cap.read()\n",
    "    \n",
    "    ClassIndex, confidence, bbox = model.detect(frame,confThreshold=0.55)\n",
    "    \n",
    "    print(ClassIndex)\n",
    "    if (len(ClassIndex)!=0):\n",
    "        for ClassInd, conf, boxes in zip(ClassIndex.flatten(), confidence.flatten(), bbox):\n",
    "            if (ClassInd<=80):\n",
    "                cv2.rectangle(frame,boxes,(255, 0, 0), 2)\n",
    "                cv2.putText(frame,classLabels[ClassInd-1],(boxes[0]+10,boxes[1]+40), font, fontScale=font_scale, color=(0, 250, 0), thickness=3)\n",
    "    cv2.imshow('Object Detection Tutorial',frame)\n",
    "    \n",
    "    if cv2.waitKey(2) & 0xFF == ord('q'):\n",
    "        break\n",
    "\n",
    "cap.release()\n",
    "cv2.destroyAllWindows()"
   ]
  },
  {
   "cell_type": "markdown",
   "id": "557b6a3e",
   "metadata": {},
   "source": [
    "cap = cv2.VideoCapture(2)\n",
    "#ceck if the video is opened correctly\n",
    "if not cap.isOpened():\n",
    "    cap = cv2.VideoCapture(0)\n",
    "if not cap.isOpened():\n",
    "    raise IDEerror(\"Cannot open webcam\")\n",
    "    \n",
    "font_scale = 3\n",
    "font = cv2.FONT_HERSHEY_PLAIN\n",
    "\n",
    "while True:\n",
    "    ret,frame = cap.read()\n",
    "    \n",
    "    ClassIndex, confidence, bbox = model.detect(frame,confThreshold=0.55)\n",
    "    \n",
    "    print(ClassIndex)\n",
    "    if (len(ClassIndex)!=0):\n",
    "        for ClassInd, conf, boxes in zip(ClassIndex.flatten(), confidence.flatten(), bbox):\n",
    "            if (ClassInd<=80):\n",
    "                cv2.rectangle(frame,boxes,(255, 0, 0), 2)\n",
    "                cv2.putText(frame,classLabels[ClassInd-1],(boxes[0]+10,boxes[1]+40), font, fontScale=font_scale, color=(0, 250, 0), thickness=3)\n",
    "    cv2.imshow('Object Detection Tutorial',frame)\n",
    "    \n",
    "    if cv2.waitKey(2) & 0xFF == ord('q'):\n",
    "        break\n",
    "\n",
    "cap.release()\n",
    "cv2.destroyAllWindows()"
   ]
  },
  {
   "cell_type": "code",
   "execution_count": null,
   "id": "a94a6027",
   "metadata": {},
   "outputs": [],
   "source": []
  }
 ],
 "metadata": {
  "kernelspec": {
   "display_name": "Python 3 (ipykernel)",
   "language": "python",
   "name": "python3"
  },
  "language_info": {
   "codemirror_mode": {
    "name": "ipython",
    "version": 3
   },
   "file_extension": ".py",
   "mimetype": "text/x-python",
   "name": "python",
   "nbconvert_exporter": "python",
   "pygments_lexer": "ipython3",
   "version": "3.9.7"
  }
 },
 "nbformat": 4,
 "nbformat_minor": 5
}
